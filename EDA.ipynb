{
 "cells": [
  {
   "cell_type": "code",
   "execution_count": 1,
   "id": "272e7560",
   "metadata": {},
   "outputs": [],
   "source": [
    "import matplotlib.pyplot as plt\n",
    "import pandas as pd\n",
    "import numpy as np\n",
    "import matplotlib.dates as mdates\n",
    "import warnings\n",
    "import seaborn as sns\n",
    "warnings.filterwarnings(\"ignore\")"
   ]
  },
  {
   "cell_type": "code",
   "execution_count": 2,
   "id": "41ae3188",
   "metadata": {},
   "outputs": [],
   "source": [
    "df = pd.read_csv('covid19.csv')"
   ]
  },
  {
   "cell_type": "markdown",
   "id": "09e8bb32",
   "metadata": {},
   "source": [
    "## 1. Get an initial sniff of the data"
   ]
  },
  {
   "cell_type": "code",
   "execution_count": 3,
   "id": "8557fba5",
   "metadata": {},
   "outputs": [
    {
     "name": "stdout",
     "output_type": "stream",
     "text": [
      "<class 'pandas.core.frame.DataFrame'>\n",
      "RangeIndex: 110487 entries, 0 to 110486\n",
      "Data columns (total 8 columns):\n",
      " #   Column                   Non-Null Count   Dtype  \n",
      "---  ------                   --------------   -----  \n",
      " 0   iso_code                 110487 non-null  object \n",
      " 1   date                     110487 non-null  object \n",
      " 2   new_cases                105626 non-null  float64\n",
      " 3   new_deaths               95315 non-null   float64\n",
      " 4   icu_patients             11847 non-null   float64\n",
      " 5   hosp_patients            14224 non-null   float64\n",
      " 6   people_vaccinated        21273 non-null   float64\n",
      " 7   people_fully_vaccinated  18288 non-null   float64\n",
      "dtypes: float64(6), object(2)\n",
      "memory usage: 6.7+ MB\n"
     ]
    }
   ],
   "source": [
    "df.info()"
   ]
  },
  {
   "cell_type": "code",
   "execution_count": 4,
   "id": "fc4e84d2",
   "metadata": {},
   "outputs": [
    {
     "data": {
      "text/plain": [
       "(110487, 8)"
      ]
     },
     "execution_count": 4,
     "metadata": {},
     "output_type": "execute_result"
    }
   ],
   "source": [
    "df.shape"
   ]
  },
  {
   "cell_type": "code",
   "execution_count": 5,
   "id": "bc696fbb",
   "metadata": {},
   "outputs": [
    {
     "data": {
      "text/html": [
       "<div>\n",
       "<style scoped>\n",
       "    .dataframe tbody tr th:only-of-type {\n",
       "        vertical-align: middle;\n",
       "    }\n",
       "\n",
       "    .dataframe tbody tr th {\n",
       "        vertical-align: top;\n",
       "    }\n",
       "\n",
       "    .dataframe thead th {\n",
       "        text-align: right;\n",
       "    }\n",
       "</style>\n",
       "<table border=\"1\" class=\"dataframe\">\n",
       "  <thead>\n",
       "    <tr style=\"text-align: right;\">\n",
       "      <th></th>\n",
       "      <th>new_cases</th>\n",
       "      <th>new_deaths</th>\n",
       "      <th>icu_patients</th>\n",
       "      <th>hosp_patients</th>\n",
       "      <th>people_vaccinated</th>\n",
       "      <th>people_fully_vaccinated</th>\n",
       "    </tr>\n",
       "  </thead>\n",
       "  <tbody>\n",
       "    <tr>\n",
       "      <th>count</th>\n",
       "      <td>105626.000000</td>\n",
       "      <td>95315.000000</td>\n",
       "      <td>11847.000000</td>\n",
       "      <td>14224.000000</td>\n",
       "      <td>2.127300e+04</td>\n",
       "      <td>1.828800e+04</td>\n",
       "    </tr>\n",
       "    <tr>\n",
       "      <th>mean</th>\n",
       "      <td>6271.504620</td>\n",
       "      <td>145.846918</td>\n",
       "      <td>963.213978</td>\n",
       "      <td>4279.005202</td>\n",
       "      <td>2.636460e+07</td>\n",
       "      <td>1.561379e+07</td>\n",
       "    </tr>\n",
       "    <tr>\n",
       "      <th>std</th>\n",
       "      <td>38596.749711</td>\n",
       "      <td>796.499109</td>\n",
       "      <td>2767.213574</td>\n",
       "      <td>11433.354107</td>\n",
       "      <td>1.470117e+08</td>\n",
       "      <td>8.267387e+07</td>\n",
       "    </tr>\n",
       "    <tr>\n",
       "      <th>min</th>\n",
       "      <td>-74347.000000</td>\n",
       "      <td>-1918.000000</td>\n",
       "      <td>0.000000</td>\n",
       "      <td>0.000000</td>\n",
       "      <td>0.000000e+00</td>\n",
       "      <td>1.000000e+00</td>\n",
       "    </tr>\n",
       "    <tr>\n",
       "      <th>25%</th>\n",
       "      <td>2.000000</td>\n",
       "      <td>0.000000</td>\n",
       "      <td>29.000000</td>\n",
       "      <td>107.000000</td>\n",
       "      <td>1.462080e+05</td>\n",
       "      <td>7.176000e+04</td>\n",
       "    </tr>\n",
       "    <tr>\n",
       "      <th>50%</th>\n",
       "      <td>82.000000</td>\n",
       "      <td>2.000000</td>\n",
       "      <td>142.000000</td>\n",
       "      <td>559.500000</td>\n",
       "      <td>9.502120e+05</td>\n",
       "      <td>5.955320e+05</td>\n",
       "    </tr>\n",
       "    <tr>\n",
       "      <th>75%</th>\n",
       "      <td>867.000000</td>\n",
       "      <td>18.000000</td>\n",
       "      <td>599.500000</td>\n",
       "      <td>2408.250000</td>\n",
       "      <td>5.379359e+06</td>\n",
       "      <td>3.746119e+06</td>\n",
       "    </tr>\n",
       "    <tr>\n",
       "      <th>max</th>\n",
       "      <td>905993.000000</td>\n",
       "      <td>18000.000000</td>\n",
       "      <td>28889.000000</td>\n",
       "      <td>133214.000000</td>\n",
       "      <td>2.491591e+09</td>\n",
       "      <td>1.871760e+09</td>\n",
       "    </tr>\n",
       "  </tbody>\n",
       "</table>\n",
       "</div>"
      ],
      "text/plain": [
       "           new_cases    new_deaths  icu_patients  hosp_patients  \\\n",
       "count  105626.000000  95315.000000  11847.000000   14224.000000   \n",
       "mean     6271.504620    145.846918    963.213978    4279.005202   \n",
       "std     38596.749711    796.499109   2767.213574   11433.354107   \n",
       "min    -74347.000000  -1918.000000      0.000000       0.000000   \n",
       "25%         2.000000      0.000000     29.000000     107.000000   \n",
       "50%        82.000000      2.000000    142.000000     559.500000   \n",
       "75%       867.000000     18.000000    599.500000    2408.250000   \n",
       "max    905993.000000  18000.000000  28889.000000  133214.000000   \n",
       "\n",
       "       people_vaccinated  people_fully_vaccinated  \n",
       "count       2.127300e+04             1.828800e+04  \n",
       "mean        2.636460e+07             1.561379e+07  \n",
       "std         1.470117e+08             8.267387e+07  \n",
       "min         0.000000e+00             1.000000e+00  \n",
       "25%         1.462080e+05             7.176000e+04  \n",
       "50%         9.502120e+05             5.955320e+05  \n",
       "75%         5.379359e+06             3.746119e+06  \n",
       "max         2.491591e+09             1.871760e+09  "
      ]
     },
     "execution_count": 5,
     "metadata": {},
     "output_type": "execute_result"
    }
   ],
   "source": [
    "df.describe()"
   ]
  },
  {
   "cell_type": "code",
   "execution_count": 6,
   "id": "a9c2ba02",
   "metadata": {},
   "outputs": [
    {
     "data": {
      "text/html": [
       "<div>\n",
       "<style scoped>\n",
       "    .dataframe tbody tr th:only-of-type {\n",
       "        vertical-align: middle;\n",
       "    }\n",
       "\n",
       "    .dataframe tbody tr th {\n",
       "        vertical-align: top;\n",
       "    }\n",
       "\n",
       "    .dataframe thead th {\n",
       "        text-align: right;\n",
       "    }\n",
       "</style>\n",
       "<table border=\"1\" class=\"dataframe\">\n",
       "  <thead>\n",
       "    <tr style=\"text-align: right;\">\n",
       "      <th></th>\n",
       "      <th>iso_code</th>\n",
       "      <th>date</th>\n",
       "      <th>new_cases</th>\n",
       "      <th>new_deaths</th>\n",
       "      <th>icu_patients</th>\n",
       "      <th>hosp_patients</th>\n",
       "      <th>people_vaccinated</th>\n",
       "      <th>people_fully_vaccinated</th>\n",
       "    </tr>\n",
       "  </thead>\n",
       "  <tbody>\n",
       "    <tr>\n",
       "      <th>0</th>\n",
       "      <td>AFG</td>\n",
       "      <td>2020-02-24</td>\n",
       "      <td>1.0</td>\n",
       "      <td>NaN</td>\n",
       "      <td>NaN</td>\n",
       "      <td>NaN</td>\n",
       "      <td>NaN</td>\n",
       "      <td>NaN</td>\n",
       "    </tr>\n",
       "    <tr>\n",
       "      <th>1</th>\n",
       "      <td>AFG</td>\n",
       "      <td>2020-02-25</td>\n",
       "      <td>0.0</td>\n",
       "      <td>NaN</td>\n",
       "      <td>NaN</td>\n",
       "      <td>NaN</td>\n",
       "      <td>NaN</td>\n",
       "      <td>NaN</td>\n",
       "    </tr>\n",
       "  </tbody>\n",
       "</table>\n",
       "</div>"
      ],
      "text/plain": [
       "  iso_code        date  new_cases  new_deaths  icu_patients  hosp_patients  \\\n",
       "0      AFG  2020-02-24        1.0         NaN           NaN            NaN   \n",
       "1      AFG  2020-02-25        0.0         NaN           NaN            NaN   \n",
       "\n",
       "   people_vaccinated  people_fully_vaccinated  \n",
       "0                NaN                      NaN  \n",
       "1                NaN                      NaN  "
      ]
     },
     "execution_count": 6,
     "metadata": {},
     "output_type": "execute_result"
    }
   ],
   "source": [
    "df.head(2)"
   ]
  },
  {
   "cell_type": "code",
   "execution_count": 7,
   "id": "22a34931",
   "metadata": {},
   "outputs": [
    {
     "data": {
      "text/plain": [
       "iso_code                   False\n",
       "date                       False\n",
       "new_cases                   True\n",
       "new_deaths                  True\n",
       "icu_patients                True\n",
       "hosp_patients               True\n",
       "people_vaccinated           True\n",
       "people_fully_vaccinated     True\n",
       "dtype: bool"
      ]
     },
     "execution_count": 7,
     "metadata": {},
     "output_type": "execute_result"
    }
   ],
   "source": [
    "df.isnull().any()"
   ]
  },
  {
   "cell_type": "markdown",
   "id": "259549fc",
   "metadata": {},
   "source": [
    "## 2. Initial cleaning up"
   ]
  },
  {
   "cell_type": "code",
   "execution_count": 8,
   "id": "223a3fbc",
   "metadata": {},
   "outputs": [
    {
     "data": {
      "text/plain": [
       "iso_code                       0\n",
       "date                           0\n",
       "new_cases                   4861\n",
       "new_deaths                 15172\n",
       "icu_patients               98640\n",
       "hosp_patients              96263\n",
       "people_vaccinated          89214\n",
       "people_fully_vaccinated    92199\n",
       "dtype: int64"
      ]
     },
     "execution_count": 8,
     "metadata": {},
     "output_type": "execute_result"
    }
   ],
   "source": [
    "# check null values\n",
    "df.isnull().sum()"
   ]
  },
  {
   "cell_type": "code",
   "execution_count": 9,
   "id": "32960e5f",
   "metadata": {},
   "outputs": [
    {
     "data": {
      "text/html": [
       "<div>\n",
       "<style scoped>\n",
       "    .dataframe tbody tr th:only-of-type {\n",
       "        vertical-align: middle;\n",
       "    }\n",
       "\n",
       "    .dataframe tbody tr th {\n",
       "        vertical-align: top;\n",
       "    }\n",
       "\n",
       "    .dataframe thead th {\n",
       "        text-align: right;\n",
       "    }\n",
       "</style>\n",
       "<table border=\"1\" class=\"dataframe\">\n",
       "  <thead>\n",
       "    <tr style=\"text-align: right;\">\n",
       "      <th></th>\n",
       "      <th>iso_code</th>\n",
       "      <th>date</th>\n",
       "      <th>new_cases</th>\n",
       "      <th>new_deaths</th>\n",
       "      <th>icu_patients</th>\n",
       "      <th>hosp_patients</th>\n",
       "      <th>people_vaccinated</th>\n",
       "      <th>people_fully_vaccinated</th>\n",
       "    </tr>\n",
       "  </thead>\n",
       "  <tbody>\n",
       "    <tr>\n",
       "      <th>0</th>\n",
       "      <td>AFG</td>\n",
       "      <td>2020-02-24</td>\n",
       "      <td>1.0</td>\n",
       "      <td>0.0</td>\n",
       "      <td>0.0</td>\n",
       "      <td>0.0</td>\n",
       "      <td>0.0</td>\n",
       "      <td>0.0</td>\n",
       "    </tr>\n",
       "    <tr>\n",
       "      <th>1</th>\n",
       "      <td>AFG</td>\n",
       "      <td>2020-02-25</td>\n",
       "      <td>0.0</td>\n",
       "      <td>0.0</td>\n",
       "      <td>0.0</td>\n",
       "      <td>0.0</td>\n",
       "      <td>0.0</td>\n",
       "      <td>0.0</td>\n",
       "    </tr>\n",
       "    <tr>\n",
       "      <th>2</th>\n",
       "      <td>AFG</td>\n",
       "      <td>2020-02-26</td>\n",
       "      <td>0.0</td>\n",
       "      <td>0.0</td>\n",
       "      <td>0.0</td>\n",
       "      <td>0.0</td>\n",
       "      <td>0.0</td>\n",
       "      <td>0.0</td>\n",
       "    </tr>\n",
       "    <tr>\n",
       "      <th>3</th>\n",
       "      <td>AFG</td>\n",
       "      <td>2020-02-27</td>\n",
       "      <td>0.0</td>\n",
       "      <td>0.0</td>\n",
       "      <td>0.0</td>\n",
       "      <td>0.0</td>\n",
       "      <td>0.0</td>\n",
       "      <td>0.0</td>\n",
       "    </tr>\n",
       "    <tr>\n",
       "      <th>4</th>\n",
       "      <td>AFG</td>\n",
       "      <td>2020-02-28</td>\n",
       "      <td>0.0</td>\n",
       "      <td>0.0</td>\n",
       "      <td>0.0</td>\n",
       "      <td>0.0</td>\n",
       "      <td>0.0</td>\n",
       "      <td>0.0</td>\n",
       "    </tr>\n",
       "  </tbody>\n",
       "</table>\n",
       "</div>"
      ],
      "text/plain": [
       "  iso_code        date  new_cases  new_deaths  icu_patients  hosp_patients  \\\n",
       "0      AFG  2020-02-24        1.0         0.0           0.0            0.0   \n",
       "1      AFG  2020-02-25        0.0         0.0           0.0            0.0   \n",
       "2      AFG  2020-02-26        0.0         0.0           0.0            0.0   \n",
       "3      AFG  2020-02-27        0.0         0.0           0.0            0.0   \n",
       "4      AFG  2020-02-28        0.0         0.0           0.0            0.0   \n",
       "\n",
       "   people_vaccinated  people_fully_vaccinated  \n",
       "0                0.0                      0.0  \n",
       "1                0.0                      0.0  \n",
       "2                0.0                      0.0  \n",
       "3                0.0                      0.0  \n",
       "4                0.0                      0.0  "
      ]
     },
     "execution_count": 9,
     "metadata": {},
     "output_type": "execute_result"
    }
   ],
   "source": [
    "df.fillna(0, inplace=True)\n",
    "df.head(5)"
   ]
  },
  {
   "cell_type": "code",
   "execution_count": 10,
   "id": "0ad48309",
   "metadata": {},
   "outputs": [
    {
     "data": {
      "text/plain": [
       "Int64Index([  3525,   3835,  11230,  20856,  21272,  23695,  25323,  26066,\n",
       "             27158,  28943,  28944,  28947,  29066,  30156,  35282,  35283,\n",
       "             35753,  35756,  35772,  35778,  35803,  35812,  35813,  35838,\n",
       "             35967,  37134,  38586,  42419,  43511,  45431,  45961,  48860,\n",
       "             49139,  49541,  49805,  51623,  52515,  59126,  59726,  62505,\n",
       "             62881,  63733,  65731,  68283,  69637,  70892,  70900,  71170,\n",
       "             71272,  72019,  77726,  80453,  85090,  85208,  93567,  93598,\n",
       "             93879,  97488,  97494,  99066,  99153,  99189,  99190, 102546,\n",
       "            102579, 104570, 104609, 105307, 109078, 110013],\n",
       "           dtype='int64')"
      ]
     },
     "execution_count": 10,
     "metadata": {},
     "output_type": "execute_result"
    }
   ],
   "source": [
    "# check negative values\n",
    "df.index[df['new_cases'] < 0]"
   ]
  },
  {
   "cell_type": "code",
   "execution_count": 11,
   "id": "4a516308",
   "metadata": {},
   "outputs": [
    {
     "data": {
      "text/plain": [
       "Int64Index([  2914,   5914,   6335,   6346,   6505,   6587,   6845,   6848,\n",
       "             10294,  10998,\n",
       "            ...\n",
       "             96657,  96710,  96738,  96744,  96754,  96762,  96764,  98096,\n",
       "            107184, 107868],\n",
       "           dtype='int64', length=117)"
      ]
     },
     "execution_count": 11,
     "metadata": {},
     "output_type": "execute_result"
    }
   ],
   "source": [
    "df.index[df['new_deaths'] < 0]"
   ]
  },
  {
   "cell_type": "code",
   "execution_count": 12,
   "id": "e4fc29b0",
   "metadata": {},
   "outputs": [
    {
     "name": "stdout",
     "output_type": "stream",
     "text": [
      "70\n",
      "117\n"
     ]
    }
   ],
   "source": [
    "print(len(df.index[df['new_cases'] < 0]))\n",
    "print(len(df.index[df['new_deaths'] < 0]))"
   ]
  },
  {
   "cell_type": "code",
   "execution_count": 13,
   "id": "818859e8",
   "metadata": {},
   "outputs": [
    {
     "data": {
      "text/html": [
       "<div>\n",
       "<style scoped>\n",
       "    .dataframe tbody tr th:only-of-type {\n",
       "        vertical-align: middle;\n",
       "    }\n",
       "\n",
       "    .dataframe tbody tr th {\n",
       "        vertical-align: top;\n",
       "    }\n",
       "\n",
       "    .dataframe thead th {\n",
       "        text-align: right;\n",
       "    }\n",
       "</style>\n",
       "<table border=\"1\" class=\"dataframe\">\n",
       "  <thead>\n",
       "    <tr style=\"text-align: right;\">\n",
       "      <th></th>\n",
       "      <th>iso_code</th>\n",
       "      <th>date</th>\n",
       "      <th>new_cases</th>\n",
       "      <th>new_deaths</th>\n",
       "      <th>icu_patients</th>\n",
       "      <th>hosp_patients</th>\n",
       "      <th>people_vaccinated</th>\n",
       "      <th>people_fully_vaccinated</th>\n",
       "    </tr>\n",
       "  </thead>\n",
       "  <tbody>\n",
       "    <tr>\n",
       "      <th>0</th>\n",
       "      <td>AFG</td>\n",
       "      <td>2020-02-24</td>\n",
       "      <td>1.0</td>\n",
       "      <td>0.0</td>\n",
       "      <td>0.0</td>\n",
       "      <td>0.0</td>\n",
       "      <td>0.0</td>\n",
       "      <td>0.0</td>\n",
       "    </tr>\n",
       "    <tr>\n",
       "      <th>1</th>\n",
       "      <td>AFG</td>\n",
       "      <td>2020-02-25</td>\n",
       "      <td>0.0</td>\n",
       "      <td>0.0</td>\n",
       "      <td>0.0</td>\n",
       "      <td>0.0</td>\n",
       "      <td>0.0</td>\n",
       "      <td>0.0</td>\n",
       "    </tr>\n",
       "    <tr>\n",
       "      <th>2</th>\n",
       "      <td>AFG</td>\n",
       "      <td>2020-02-26</td>\n",
       "      <td>0.0</td>\n",
       "      <td>0.0</td>\n",
       "      <td>0.0</td>\n",
       "      <td>0.0</td>\n",
       "      <td>0.0</td>\n",
       "      <td>0.0</td>\n",
       "    </tr>\n",
       "    <tr>\n",
       "      <th>3</th>\n",
       "      <td>AFG</td>\n",
       "      <td>2020-02-27</td>\n",
       "      <td>0.0</td>\n",
       "      <td>0.0</td>\n",
       "      <td>0.0</td>\n",
       "      <td>0.0</td>\n",
       "      <td>0.0</td>\n",
       "      <td>0.0</td>\n",
       "    </tr>\n",
       "    <tr>\n",
       "      <th>4</th>\n",
       "      <td>AFG</td>\n",
       "      <td>2020-02-28</td>\n",
       "      <td>0.0</td>\n",
       "      <td>0.0</td>\n",
       "      <td>0.0</td>\n",
       "      <td>0.0</td>\n",
       "      <td>0.0</td>\n",
       "      <td>0.0</td>\n",
       "    </tr>\n",
       "  </tbody>\n",
       "</table>\n",
       "</div>"
      ],
      "text/plain": [
       "  iso_code        date  new_cases  new_deaths  icu_patients  hosp_patients  \\\n",
       "0      AFG  2020-02-24        1.0         0.0           0.0            0.0   \n",
       "1      AFG  2020-02-25        0.0         0.0           0.0            0.0   \n",
       "2      AFG  2020-02-26        0.0         0.0           0.0            0.0   \n",
       "3      AFG  2020-02-27        0.0         0.0           0.0            0.0   \n",
       "4      AFG  2020-02-28        0.0         0.0           0.0            0.0   \n",
       "\n",
       "   people_vaccinated  people_fully_vaccinated  \n",
       "0                0.0                      0.0  \n",
       "1                0.0                      0.0  \n",
       "2                0.0                      0.0  \n",
       "3                0.0                      0.0  \n",
       "4                0.0                      0.0  "
      ]
     },
     "execution_count": 13,
     "metadata": {},
     "output_type": "execute_result"
    }
   ],
   "source": [
    "df[df['new_cases'] < 0] = 0\n",
    "df[df['new_deaths'] < 0] = 0\n",
    "df.head(5)"
   ]
  },
  {
   "cell_type": "markdown",
   "id": "143f7d46",
   "metadata": {},
   "source": [
    "## 3. Visualizations"
   ]
  },
  {
   "cell_type": "code",
   "execution_count": 14,
   "id": "040c348f",
   "metadata": {},
   "outputs": [
    {
     "data": {
      "image/png": "[encoded data removed]",
      "text/plain": [
       "<Figure size 720x720 with 1 Axes>"
      ]
     },
     "metadata": {
      "needs_background": "light"
     },
     "output_type": "display_data"
    }
   ],
   "source": [
    "fig, ax = plt.subplots(figsize=(10, 10))\n",
    "sub_df = df[df.iso_code == 'USA']\n",
    "sub_df['date'] = pd.to_datetime(sub_df['date'])\n",
    "\n",
    "ax.scatter(sub_df.date, sub_df.new_cases)\n",
    "\n",
    "# Setting title and labels\n",
    "plt.title('New Covid Cases with time', size=20)\n",
    "ax.set_xlabel('Date', size=15)\n",
    "ax.set_ylabel('New Cases', size=15)\n",
    "ax.xaxis.labelpad = 20\n",
    "\n",
    "# Setting axis-ticks\n",
    "ax.xaxis.set_major_locator(mdates.MonthLocator(interval=1))\n",
    "ax.xaxis.set_major_formatter(mdates.DateFormatter('%Y-%m'))\n",
    "plt.xticks(rotation=90)\n",
    "\n",
    "# Removing top and right spines\n",
    "ax.spines['top'].set_visible(False)\n",
    "ax.spines['right'].set_visible(False)\n",
    "\n",
    "plt.show()"
   ]
  },
  {
   "cell_type": "code",
   "execution_count": 15,
   "id": "7401e49e",
   "metadata": {},
   "outputs": [
    {
     "data": {
      "image/png": "[encoded data removed]",
      "text/plain": [
       "<Figure size 576x576 with 2 Axes>"
      ]
     },
     "metadata": {
      "needs_background": "light"
     },
     "output_type": "display_data"
    }
   ],
   "source": [
    "fig, ax = plt.subplots(figsize=(8, 8))\n",
    "sns.heatmap(df.corr(), ax=ax, annot=True)\n",
    "plt.title('Heatmap', size=20, pad=10)\n",
    "plt.show()"
   ]
  }
 ],
 "metadata": {
  "kernelspec": {
   "display_name": "Python 3",
   "language": "python",
   "name": "python3"
  },
  "language_info": {
   "codemirror_mode": {
    "name": "ipython",
    "version": 3
   },
   "file_extension": ".py",
   "mimetype": "text/x-python",
   "name": "python",
   "nbconvert_exporter": "python",
   "pygments_lexer": "ipython3",
   "version": "3.8.8"
  }
 },
 "nbformat": 4,
 "nbformat_minor": 5
}
